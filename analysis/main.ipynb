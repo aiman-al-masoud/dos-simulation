{
 "cells": [
  {
   "cell_type": "code",
   "execution_count": 29,
   "id": "378de9dc-9a08-47a4-9f07-64366a2779b3",
   "metadata": {},
   "outputs": [],
   "source": [
    "import re\n",
    "import pandas as pd\n",
    "import numpy as np\n",
    "from matplotlib import pyplot as plt"
   ]
  },
  {
   "cell_type": "code",
   "execution_count": 12,
   "id": "0dbeb04d-f9eb-420f-ba5e-04c2a5bf7f28",
   "metadata": {},
   "outputs": [],
   "source": [
    "with open(\"./data/dump.txt\") as f:\n",
    "    dump = f.read()"
   ]
  },
  {
   "cell_type": "code",
   "execution_count": 14,
   "id": "736352a9-3af7-4a54-9b22-b55ca7d9a880",
   "metadata": {},
   "outputs": [],
   "source": [
    "def dump_to_stats(dump)->{}:\n",
    "    \n",
    "    \"\"\"\n",
    "    Get the final rtt stats from a ping dump.\n",
    "    \"\"\"\n",
    "    labels = [\"rtt_min\", \"rtt_avg\", \"rtt_max\", \"rtt_mdev\"]\n",
    "    last_line = dump.split(\"\\n\")[-2]\n",
    "    numbers =  [ float(t) for t in re.findall(\"\\d+.\\d+\",  last_line )  ]\n",
    "    assert len(labels) == len(numbers) \n",
    "    return dict(zip(labels, numbers))\n",
    "\n",
    "def get_avg_rtt(dump):\n",
    "        \n",
    "    \"\"\"\n",
    "    Get the average rtt from a ping dump.\n",
    "    \"\"\"\n",
    "    return dump_to_stats(dump)[\"rtt_avg\"]"
   ]
  },
  {
   "cell_type": "code",
   "execution_count": 15,
   "id": "636463d8-9c10-4c3b-aa2c-ea0e6f204bdd",
   "metadata": {},
   "outputs": [],
   "source": [
    "def line_to_rtt(l)-> float:\n",
    "\n",
    "    \"\"\"\n",
    "    Get the RTT from a single line of a ping-dump.\n",
    "    Returns 'timeout' if it detects a timeout.\n",
    "    Returns None if the line does not contain an RTT.\n",
    "    \"\"\"\n",
    "    try:\n",
    "        return float(re.findall( \"time=\\d+.\\d+\" ,l )[0].replace(\"time=\", \"\"))\n",
    "    except:\n",
    "        if \"timeout\" in l:\n",
    "            return \"timeout\"\n",
    "        return None"
   ]
  },
  {
   "cell_type": "code",
   "execution_count": 16,
   "id": "39443ef9-b219-4f9c-9133-22b55d8dd29f",
   "metadata": {},
   "outputs": [],
   "source": [
    "def dump_to_rtt_list(dump) -> [float]:\n",
    "    \"\"\"\n",
    "    Get a list of rtts from a ping dump. \n",
    "    \"\"\"\n",
    "    return [line_to_rtt(l) for l in dump.split(\"\\n\")]"
   ]
  },
  {
   "cell_type": "code",
   "execution_count": null,
   "id": "26ecac88-a32f-4bb7-8eed-83adabf86c53",
   "metadata": {},
   "outputs": [],
   "source": []
  },
  {
   "cell_type": "markdown",
   "id": "a21ee2c4-f5f1-4cf9-9845-717c95ec26be",
   "metadata": {},
   "source": [
    "# Plot the series of ping RTTs "
   ]
  },
  {
   "cell_type": "code",
   "execution_count": 27,
   "id": "e8febb78-7256-403c-ad2d-1ba956fb1af3",
   "metadata": {},
   "outputs": [],
   "source": [
    "s = pd.Series(dump_to_rtt_list(dump))\n",
    "s = s.apply(lambda x : float(x) if isinstance(x, float) else  np.inf)"
   ]
  },
  {
   "cell_type": "code",
   "execution_count": 52,
   "id": "6ced9cb1-4da9-4f09-9dba-a8c521da498a",
   "metadata": {},
   "outputs": [
    {
     "data": {
      "text/plain": [
       "<AxesSubplot:title={'center':'Too Lazy To Capitalize Title'}, xlabel='ping number', ylabel='RTT (ms)'>"
      ]
     },
     "execution_count": 52,
     "metadata": {},
     "output_type": "execute_result"
    },
    {
     "data": {
      "image/png": "[encoded data removed]",
      "text/plain": [
       "<Figure size 576x216 with 1 Axes>"
      ]
     },
     "metadata": {
      "needs_background": "light"
     },
     "output_type": "display_data"
    }
   ],
   "source": [
    "fig, ax = plt.subplots(figsize=(8,3))\n",
    "ax.set_xlabel(\"ping number\")\n",
    "ax.set_ylabel(\"RTT (ms)\")\n",
    "ax.set_title(\"too lazy to capitalize title\".title())\n",
    "s.plot(ax=ax)"
   ]
  },
  {
   "cell_type": "code",
   "execution_count": null,
   "id": "d9cf1d20-95b4-4ae9-9cd2-806b950cc99e",
   "metadata": {},
   "outputs": [],
   "source": []
  },
  {
   "cell_type": "code",
   "execution_count": null,
   "id": "d3284bc9-44f5-4c4d-afe5-f1e5d1b8290f",
   "metadata": {},
   "outputs": [],
   "source": []
  },
  {
   "cell_type": "code",
   "execution_count": null,
   "id": "40c3425b-022b-4eee-87bb-3a4763c01758",
   "metadata": {},
   "outputs": [],
   "source": []
  }
 ],
 "metadata": {
  "kernelspec": {
   "display_name": "Python 3 (ipykernel)",
   "language": "python",
   "name": "python3"
  },
  "language_info": {
   "codemirror_mode": {
    "name": "ipython",
    "version": 3
   },
   "file_extension": ".py",
   "mimetype": "text/x-python",
   "name": "python",
   "nbconvert_exporter": "python",
   "pygments_lexer": "ipython3",
   "version": "3.8.10"
  }
 },
 "nbformat": 4,
 "nbformat_minor": 5
}
